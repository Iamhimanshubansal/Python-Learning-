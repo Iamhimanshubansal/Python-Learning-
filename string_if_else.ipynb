{
  "cells": [
    {
      "cell_type": "code",
      "execution_count": null,
      "metadata": {
        "colab": {
          "base_uri": "https://localhost:8080/"
        },
        "id": "btXxNKlhipPh",
        "outputId": "4e8dc450-168b-4ed6-fca6-e38bfb8e7b74"
      },
      "outputs": [
        {
          "name": "stdout",
          "output_type": "stream",
          "text": [
            "Enter username and password\n"
          ]
        }
      ],
      "source": [
        "print('Enter username and password')\n",
        "count=0\n",
        "\n",
        "while password!='bansal' and username!='iamhimanshubansal' and count<4:\n",
        "  username!=input('Enter username: ') and password!=input('Enter passsword: ')\n",
        "\n",
        "  if password!='bansal' and username!='iamhimanshubansal':\n",
        "    print('passwors is correct')\n",
        "\n",
        "  else:\n",
        "    print('password is not correct')\n",
        "    count=1"
      ]
    },
    {
      "cell_type": "code",
      "execution_count": null,
      "metadata": {
        "colab": {
          "base_uri": "https://localhost:8080/"
        },
        "id": "QAarUiW3lTQw",
        "outputId": "56fdaccf-43c0-4f11-c06e-46ff2a91a92c"
      },
      "outputs": [
        {
          "name": "stdout",
          "output_type": "stream",
          "text": [
            "Enter no. of elements:3\n",
            "Enter element:45\n",
            "Enter element:54\n",
            "Enter element:3\n",
            "Second largest element is: 45\n"
          ]
        }
      ],
      "source": [
        "a=[]\n",
        "n=int(input(\"Enter no. of elements:\"))\n",
        "for i in range(1,n+1):\n",
        "  b=int(input(\"Enter element:\"))\n",
        "  a.append(b)\n",
        "a.sort()\n",
        "print(\"Second largest element is:\",a[n-2])2"
      ]
    },
    {
      "cell_type": "code",
      "execution_count": null,
      "metadata": {
        "colab": {
          "base_uri": "https://localhost:8080/"
        },
        "id": "1slFSTtxoyPx",
        "outputId": "5eb3a48d-c0da-4332-c910-16d9418f491a"
      },
      "outputs": [
        {
          "name": "stdout",
          "output_type": "stream",
          "text": [
            "Enter the text:Himanshu\n",
            "This is not a palindrome string\n"
          ]
        }
      ],
      "source": [
        "st=input(\"Enter the text:\")\n",
        "\n",
        "if(st==st[::-1]):\n",
        "  print(\"This is a palindrome string\")\n",
        "else:\n",
        "  print(\"This is not a palindrome string\")"
      ]
    },
    {
      "cell_type": "code",
      "execution_count": null,
      "metadata": {
        "colab": {
          "base_uri": "https://localhost:8080/"
        },
        "id": "Nx8KQBbnrNiA",
        "outputId": "f07668a0-43f7-40e2-9b3d-86f2b4fb90c3"
      },
      "outputs": [
        {
          "name": "stdout",
          "output_type": "stream",
          "text": [
            "huhuhuhu\n",
            "alalalal\n"
          ]
        }
      ],
      "source": [
        "def insert_end(str):\n",
        "    sub_str=str[-2:]\n",
        "    return sub_str*4\n",
        "\n",
        "print(insert_end('Himanshu'))\n",
        "print(insert_end('Bansal'))"
      ]
    },
    {
      "cell_type": "code",
      "execution_count": null,
      "metadata": {
        "colab": {
          "base_uri": "https://localhost:8080/"
        },
        "id": "yB_Phx8J-xHw",
        "outputId": "f36da8c4-d21e-46f6-fc9b-175b4f6442ae"
      },
      "outputs": [
        {
          "name": "stdout",
          "output_type": "stream",
          "text": [
            " character H position is 0\n",
            " character i position is 1\n",
            " character m position is 2\n",
            " character a position is 3\n",
            " character n position is 4\n",
            " character s position is 5\n",
            " character h position is 6\n",
            " character u position is 7\n"
          ]
        }
      ],
      "source": [
        "str = \"Himanshu\"\n",
        "for index, char in enumerate(str):\n",
        "  print(\" character\", char, \"position is\", index)\n",
        "  "
      ]
    },
    {
      "cell_type": "code",
      "execution_count": null,
      "metadata": {
        "colab": {
          "base_uri": "https://localhost:8080/",
          "height": 252
        },
        "id": "y21ZEt-7BMgC",
        "outputId": "0bd33348-2fbd-4204-f187-c76139433439"
      },
      "outputs": [
        {
          "name": "stdout",
          "output_type": "stream",
          "text": [
            "please enter a stringhimanshu\n"
          ]
        },
        {
          "ename": "NameError",
          "evalue": "ignored",
          "output_type": "error",
          "traceback": [
            "\u001b[0;31m---------------------------------------------------------------------------\u001b[0m",
            "\u001b[0;31mNameError\u001b[0m                                 Traceback (most recent call last)",
            "\u001b[0;32m<ipython-input-18-16e6ccf77911>\u001b[0m in \u001b[0;36m<module>\u001b[0;34m\u001b[0m\n\u001b[1;32m      1\u001b[0m \u001b[0mstring\u001b[0m\u001b[0;34m=\u001b[0m\u001b[0minput\u001b[0m\u001b[0;34m(\u001b[0m\u001b[0;34m\"please enter a string\"\u001b[0m\u001b[0;34m)\u001b[0m\u001b[0;34m\u001b[0m\u001b[0;34m\u001b[0m\u001b[0m\n\u001b[0;32m----> 2\u001b[0;31m \u001b[0mlength\u001b[0m\u001b[0;34m=\u001b[0m\u001b[0mlen\u001b[0m\u001b[0;34m(\u001b[0m\u001b[0mhimanshu\u001b[0m\u001b[0;34m)\u001b[0m\u001b[0;34m//\u001b[0m\u001b[0;36m2\u001b[0m\u001b[0;34m\u001b[0m\u001b[0;34m\u001b[0m\u001b[0m\n\u001b[0m\u001b[1;32m      3\u001b[0m \u001b[0mfirst_half_string\u001b[0m\u001b[0;34m=\u001b[0m\u001b[0mhimanshu\u001b[0m\u001b[0;34m[\u001b[0m\u001b[0;36m0\u001b[0m\u001b[0;34m:\u001b[0m\u001b[0mlength\u001b[0m\u001b[0;34m]\u001b[0m\u001b[0;34m\u001b[0m\u001b[0;34m\u001b[0m\u001b[0m\n\u001b[1;32m      4\u001b[0m \u001b[0msecond_half_string\u001b[0m\u001b[0;34m=\u001b[0m\u001b[0mhimanshu\u001b[0m\u001b[0;34m[\u001b[0m\u001b[0mlength\u001b[0m\u001b[0;34m:\u001b[0m\u001b[0;34m:\u001b[0m\u001b[0;34m]\u001b[0m\u001b[0;34m\u001b[0m\u001b[0;34m\u001b[0m\u001b[0m\n\u001b[1;32m      5\u001b[0m \u001b[0mprint\u001b[0m\u001b[0;34m(\u001b[0m\u001b[0mfirst_half_string\u001b[0m\u001b[0;34m+\u001b[0m\u001b[0msecond_half_string\u001b[0m\u001b[0;34m.\u001b[0m\u001b[0mupper\u001b[0m\u001b[0;34m(\u001b[0m\u001b[0;34m)\u001b[0m\u001b[0;34m)\u001b[0m\u001b[0;34m\u001b[0m\u001b[0;34m\u001b[0m\u001b[0m\n",
            "\u001b[0;31mNameError\u001b[0m: name 'himanshu' is not defined"
          ]
        }
      ],
      "source": [
        "string=input(\"please enter a string\")\n",
        "length=len(himanshu)//2\n",
        "first_half_string=himanshu[0:length]\n",
        "second_half_string=himanshu[length::]\n",
        "print(first_half_string+second_half_string.upper())"
      ]
    },
    {
      "cell_type": "code",
      "execution_count": null,
      "metadata": {
        "id": "GXo3xgL0ETWU"
      },
      "outputs": [],
      "source": []
    }
  ],
  "metadata": {
    "colab": {
      "provenance": []
    },
    "kernelspec": {
      "display_name": "Python 3",
      "language": "python",
      "name": "python3"
    },
    "language_info": {
      "name": "python",
      "version": "3.11.1 (tags/v3.11.1:a7a450f, Dec  6 2022, 19:58:39) [MSC v.1934 64 bit (AMD64)]"
    },
    "vscode": {
      "interpreter": {
        "hash": "7ab90781065664586f0d9a7a366e434dfff07efdc6305c546ecf5d6dadda9218"
      }
    }
  },
  "nbformat": 4,
  "nbformat_minor": 0
}
